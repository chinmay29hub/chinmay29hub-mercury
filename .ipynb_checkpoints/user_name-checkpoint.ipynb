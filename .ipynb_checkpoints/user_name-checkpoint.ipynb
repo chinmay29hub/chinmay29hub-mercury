{
 "cells": [
  {
   "cell_type": "raw",
   "id": "52614d4d",
   "metadata": {},
   "source": [
    "---\n",
    "title: Username Web App\n",
    "author: chinmay29hub\n",
    "description: My second notebook in Mercury\n",
    "params:\n",
    "    user_name:\n",
    "        input: text\n",
    "        label: Enter Your Name Here\n",
    "        value: chinmay29hub\n",
    "        rows: 2\n",
    "---"
   ]
  },
  {
   "cell_type": "code",
   "execution_count": 13,
   "id": "b79db807",
   "metadata": {},
   "outputs": [],
   "source": [
    "user_name = \"chinmay29hub\""
   ]
  },
  {
   "cell_type": "code",
   "execution_count": 14,
   "id": "9edd41f8",
   "metadata": {},
   "outputs": [
    {
     "name": "stdout",
     "output_type": "stream",
     "text": [
      "Hello chinmay29hub\n"
     ]
    }
   ],
   "source": [
    "def printing(user_name):\n",
    "    print(f\"Hello {user_name}\")\n",
    "printing(user_name=user_name)"
   ]
  },
  {
   "cell_type": "code",
   "execution_count": null,
   "id": "a05838ec",
   "metadata": {},
   "outputs": [],
   "source": []
  }
 ],
 "metadata": {
  "kernelspec": {
   "display_name": "mercury",
   "language": "python",
   "name": "mercury"
  },
  "language_info": {
   "codemirror_mode": {
    "name": "ipython",
    "version": 3
   },
   "file_extension": ".py",
   "mimetype": "text/x-python",
   "name": "python",
   "nbconvert_exporter": "python",
   "pygments_lexer": "ipython3",
   "version": "3.9.7"
  }
 },
 "nbformat": 4,
 "nbformat_minor": 5
}
