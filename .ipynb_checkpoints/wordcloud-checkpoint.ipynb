{
 "cells": [
  {
   "cell_type": "raw",
   "id": "a45a5e8c",
   "metadata": {},
   "source": [
    "---\n",
    "title: Worcloud Web App\n",
    "author: chinmay29hub\n",
    "description: My first notebook in Mercury\n",
    "params:\n",
    "    width:\n",
    "        label: Choose width of the wordcloud (default is 500)\n",
    "        input: slider\n",
    "        value: 500\n",
    "        min: 100\n",
    "        max: 2000\n",
    "    height:\n",
    "        label: Choose height of the wordcloud (default is 500\n",
    "        input: slider\n",
    "        value: 500\n",
    "        min: 100\n",
    "        max: 2000\n",
    "---"
   ]
  },
  {
   "cell_type": "code",
   "execution_count": null,
   "id": "b8f4935f",
   "metadata": {},
   "outputs": [],
   "source": [
    "import pandas as pd\n",
    "import matplotlib.pyplot as plt\n",
    "from wordcloud import WordCloud"
   ]
  },
  {
   "cell_type": "code",
   "execution_count": null,
   "id": "dfbe9884",
   "metadata": {},
   "outputs": [],
   "source": [
    "width = 500\n",
    "height = 500"
   ]
  },
  {
   "cell_type": "code",
   "execution_count": null,
   "id": "ca4ed4ad",
   "metadata": {},
   "outputs": [],
   "source": [
    "df = pd.read_csv(\"dataset/android-games.csv\")\n",
    "df.head()\n",
    "df.isna().sum()\n",
    "text = \" \".join(cat.split()[1] for cat in df.category)\n",
    "word_cloud = WordCloud(width=width, height=height, max_font_size=200,\n",
    "                       collocations=False, background_color='black').generate(text)\n",
    "plt.imshow(word_cloud, interpolation='bilinear')\n",
    "plt.axis(\"off\")\n",
    "plt.show()"
   ]
  }
 ],
 "metadata": {
  "kernelspec": {
   "display_name": "mercury",
   "language": "python",
   "name": "mercury"
  },
  "language_info": {
   "codemirror_mode": {
    "name": "ipython",
    "version": 3
   },
   "file_extension": ".py",
   "mimetype": "text/x-python",
   "name": "python",
   "nbconvert_exporter": "python",
   "pygments_lexer": "ipython3",
   "version": "3.9.7"
  }
 },
 "nbformat": 4,
 "nbformat_minor": 5
}
