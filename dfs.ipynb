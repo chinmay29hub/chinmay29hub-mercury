{
 "cells": [
  {
   "cell_type": "raw",
   "id": "85de2a1b",
   "metadata": {},
   "source": [
    "---\n",
    "title: Dept First Search\n",
    "author: chinmay29hub\n",
    "description: Implementation of Depth First Search\n",
    "---"
   ]
  },
  {
   "cell_type": "markdown",
   "id": "1a6ed720",
   "metadata": {},
   "source": [
    "<p align='center'>\n",
    "<img src=\"https://favtutor.com/resources/images/uploads/mceu_11416486411608560678558.jpg\">\n",
    "</p>"
   ]
  },
  {
   "cell_type": "code",
   "execution_count": null,
   "id": "3537d582",
   "metadata": {},
   "outputs": [],
   "source": [
    "tree = {\n",
    "    '5' : ['3', '7'],\n",
    "    '3' : ['2', '4'],    # Here key represents each node and value i.e a list represents the adjacent nodes\n",
    "    '7' : ['8'],         # or children\n",
    "    '2' : [],\n",
    "    '4' : ['8'],\n",
    "    '8' : []\n",
    "} "
   ]
  },
  {
   "cell_type": "code",
   "execution_count": null,
   "id": "06084b87",
   "metadata": {},
   "outputs": [],
   "source": [
    "visited_nodes = set() # we will use set as duplicate values not allowed in sets"
   ]
  },
  {
   "cell_type": "code",
   "execution_count": null,
   "id": "7ba9d756",
   "metadata": {},
   "outputs": [],
   "source": [
    "def traverse(tree, visited_nodes, node):\n",
    "    \n",
    "    if node not in visited_nodes:\n",
    "        print(node, end=\" \")    # using end method to format the ouput : in out code with one char space\n",
    "        visited_nodes.add(node) # add method is use to add(append) the value to the set\n",
    "        \n",
    "        for adjacent_node in tree[node]: # now traversing through other tree elements with key i.e node\n",
    "            traverse(tree, visited_nodes, adjacent_node) # using recursion but this time\n",
    "                                                         # we will pass adjacent_node as root\n",
    "                                                         # node is already inserted"
   ]
  },
  {
   "cell_type": "code",
   "execution_count": null,
   "id": "183238ec",
   "metadata": {},
   "outputs": [],
   "source": [
    "traverse(tree, visited_nodes, '5') # the first node that will be passed will be the root node"
   ]
  }
 ],
 "metadata": {
  "kernelspec": {
   "display_name": "mercury",
   "language": "python",
   "name": "mercury"
  },
  "language_info": {
   "codemirror_mode": {
    "name": "ipython",
    "version": 3
   },
   "file_extension": ".py",
   "mimetype": "text/x-python",
   "name": "python",
   "nbconvert_exporter": "python",
   "pygments_lexer": "ipython3",
   "version": "3.9.7"
  }
 },
 "nbformat": 4,
 "nbformat_minor": 5
}
